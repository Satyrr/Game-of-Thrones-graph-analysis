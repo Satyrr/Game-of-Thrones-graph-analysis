{
  "cells": [
    {
      "cell_type": "code",
      "metadata": {
        "id": "DaUoy4B2OY3r",
        "colab_type": "code",
        "outputId": "501a7f15-0515-419a-fff4-3d267b6e22a6",
        "colab": {
          "base_uri": "https://localhost:8080/",
          "height": 187
        }
      },
      "source": [
        "import pandas as pd\n",
        "import requests\n",
        "\n",
        "characters = pd.read_csv('vertex.csv')\n",
        "characters = list(characters['Label'])"
      ],
      "execution_count": 1,
      "outputs": []
    },
    {
      "cell_type": "code",
      "metadata": {
        "id": "gQ0qB0sHO9fz",
        "colab_type": "code",
        "colab": {}
      },
      "source": [
        "S = requests.Session()\n",
        "\n",
        "def get_character_page(title):\n",
        "\n",
        "\n",
        "  URL = \"https://gameofthrones.fandom.com/api.php\"\n",
        "\n",
        "  PARAMS = {\n",
        "      \"action\": \"parse\",\n",
        "      \"format\": \"json\",\n",
        "      \"page\": title,\n",
        "      \"prop\": \"wikitext\",\n",
        "      \"formatversion\": \"2\"\n",
        "  }\n",
        "\n",
        "  R = S.get(url=URL, params=PARAMS)\n",
        "  DATA = R.json()\n",
        "\n",
        "  return DATA\n",
        "\n",
        "character_contents = {}\n",
        "for character in characters:\n",
        "  character_contents[character] = get_character_page(character)"
      ],
      "execution_count": 0,
      "outputs": []
    },
    {
      "cell_type": "code",
      "metadata": {
        "id": "V8vFXk1RQv6C",
        "colab_type": "code",
        "colab": {}
      },
      "source": [
        "contents = {}\n",
        "for title in character_contents:\n",
        "  contents[title] = character_contents[title]['parse']['wikitext']['*']"
      ],
      "execution_count": 0,
      "outputs": []
    },
    {
      "cell_type": "code",
      "metadata": {
        "id": "kDdVxDVTaUV7",
        "colab_type": "code",
        "colab": {}
      },
      "source": [
        "contents_df = pd.DataFrame(contents.items(), columns=['wiki_title', 'wiki_content'])"
      ],
      "execution_count": 0,
      "outputs": []
    },
    {
      "cell_type": "code",
      "metadata": {
        "id": "86kP3SJ7bXN9",
        "colab_type": "code",
        "colab": {
          "base_uri": "https://localhost:8080/",
          "height": 419
        },
        "outputId": "3b258b16-cade-471c-c283-016d6d81344b"
      },
      "source": [
        "contents_df"
      ],
      "execution_count": 44,
      "outputs": [
        {
          "output_type": "execute_result",
          "data": {
            "text/html": [
              "<div>\n",
              "<style scoped>\n",
              "    .dataframe tbody tr th:only-of-type {\n",
              "        vertical-align: middle;\n",
              "    }\n",
              "\n",
              "    .dataframe tbody tr th {\n",
              "        vertical-align: top;\n",
              "    }\n",
              "\n",
              "    .dataframe thead th {\n",
              "        text-align: right;\n",
              "    }\n",
              "</style>\n",
              "<table border=\"1\" class=\"dataframe\">\n",
              "  <thead>\n",
              "    <tr style=\"text-align: right;\">\n",
              "      <th></th>\n",
              "      <th>wiki_title</th>\n",
              "      <th>wiki_content</th>\n",
              "    </tr>\n",
              "  </thead>\n",
              "  <tbody>\n",
              "    <tr>\n",
              "      <th>0</th>\n",
              "      <td>Cassana Estermont</td>\n",
              "      <td>#REDIRECT[[Cassana Baratheon]]</td>\n",
              "    </tr>\n",
              "    <tr>\n",
              "      <th>1</th>\n",
              "      <td>Merchant captain</td>\n",
              "      <td>{{Character\\n| Title = Merchant captain\\n| Ima...</td>\n",
              "    </tr>\n",
              "    <tr>\n",
              "      <th>2</th>\n",
              "      <td>Fennesz</td>\n",
              "      <td>{{Character\\n| Title=Fennesz\\n| Image=Fennesz....</td>\n",
              "    </tr>\n",
              "    <tr>\n",
              "      <th>3</th>\n",
              "      <td>Musician 5 (The Door)</td>\n",
              "      <td>{{DISPLAYTITLE:Musician 5 &lt;small&gt;(The Door)&lt;/s...</td>\n",
              "    </tr>\n",
              "    <tr>\n",
              "      <th>4</th>\n",
              "      <td>Valryon</td>\n",
              "      <td>{{Animal\\n|Title = Valryon\\n|Season = [[Season...</td>\n",
              "    </tr>\n",
              "    <tr>\n",
              "      <th>...</th>\n",
              "      <td>...</td>\n",
              "      <td>...</td>\n",
              "    </tr>\n",
              "    <tr>\n",
              "      <th>2041</th>\n",
              "      <td>Mordane</td>\n",
              "      <td>{{Character\\n| Title=Mordane\\n| Image=MordaneC...</td>\n",
              "    </tr>\n",
              "    <tr>\n",
              "      <th>2042</th>\n",
              "      <td>Great Master 5</td>\n",
              "      <td>{{Heraldry\\n|image=SlaveMasters-Shield.PNG\\n|l...</td>\n",
              "    </tr>\n",
              "    <tr>\n",
              "      <th>2043</th>\n",
              "      <td>Red Priestess (High Sparrow)</td>\n",
              "      <td>{{DISPLAYTITLE:Red Priestess &lt;small&gt;(High Spar...</td>\n",
              "    </tr>\n",
              "    <tr>\n",
              "      <th>2044</th>\n",
              "      <td>Dareon</td>\n",
              "      <td>{{Heraldry\\n|image=Night's-Watch-Main-Shield.P...</td>\n",
              "    </tr>\n",
              "    <tr>\n",
              "      <th>2045</th>\n",
              "      <td>Ethelide Baratheon</td>\n",
              "      <td>{{Heraldry\\n|image = House-Baratheon-Main-Shie...</td>\n",
              "    </tr>\n",
              "  </tbody>\n",
              "</table>\n",
              "<p>2046 rows × 2 columns</p>\n",
              "</div>"
            ],
            "text/plain": [
              "                        wiki_title                                       wiki_content\n",
              "0                Cassana Estermont                     #REDIRECT[[Cassana Baratheon]]\n",
              "1                 Merchant captain  {{Character\\n| Title = Merchant captain\\n| Ima...\n",
              "2                          Fennesz  {{Character\\n| Title=Fennesz\\n| Image=Fennesz....\n",
              "3            Musician 5 (The Door)  {{DISPLAYTITLE:Musician 5 <small>(The Door)</s...\n",
              "4                          Valryon  {{Animal\\n|Title = Valryon\\n|Season = [[Season...\n",
              "...                            ...                                                ...\n",
              "2041                       Mordane  {{Character\\n| Title=Mordane\\n| Image=MordaneC...\n",
              "2042                Great Master 5  {{Heraldry\\n|image=SlaveMasters-Shield.PNG\\n|l...\n",
              "2043  Red Priestess (High Sparrow)  {{DISPLAYTITLE:Red Priestess <small>(High Spar...\n",
              "2044                        Dareon  {{Heraldry\\n|image=Night's-Watch-Main-Shield.P...\n",
              "2045            Ethelide Baratheon  {{Heraldry\\n|image = House-Baratheon-Main-Shie...\n",
              "\n",
              "[2046 rows x 2 columns]"
            ]
          },
          "metadata": {
            "tags": []
          },
          "execution_count": 44
        }
      ]
    },
    {
      "cell_type": "markdown",
      "metadata": {},
      "source": [
        "## Delete redirect links"
      ]
    },
    {
      "cell_type": "code",
      "metadata": {
        "id": "StWz6FsudMXh",
        "colab_type": "code",
        "colab": {
          "base_uri": "https://localhost:8080/",
          "height": 419
        },
        "outputId": "2b544b75-4409-4061-8a01-e3dbf760e493"
      },
      "source": [
        "not_redirected = contents_df[~contents_df.wiki_content.str.lower().str.contains('#redirect')]\n",
        "not_redirected"
      ],
      "execution_count": 61,
      "outputs": [
        {
          "output_type": "execute_result",
          "data": {
            "text/html": [
              "<div>\n",
              "<style scoped>\n",
              "    .dataframe tbody tr th:only-of-type {\n",
              "        vertical-align: middle;\n",
              "    }\n",
              "\n",
              "    .dataframe tbody tr th {\n",
              "        vertical-align: top;\n",
              "    }\n",
              "\n",
              "    .dataframe thead th {\n",
              "        text-align: right;\n",
              "    }\n",
              "</style>\n",
              "<table border=\"1\" class=\"dataframe\">\n",
              "  <thead>\n",
              "    <tr style=\"text-align: right;\">\n",
              "      <th></th>\n",
              "      <th>wiki_title</th>\n",
              "      <th>wiki_content</th>\n",
              "    </tr>\n",
              "  </thead>\n",
              "  <tbody>\n",
              "    <tr>\n",
              "      <th>1</th>\n",
              "      <td>Merchant captain</td>\n",
              "      <td>{{Character\\n| Title = Merchant captain\\n| Ima...</td>\n",
              "    </tr>\n",
              "    <tr>\n",
              "      <th>2</th>\n",
              "      <td>Fennesz</td>\n",
              "      <td>{{Character\\n| Title=Fennesz\\n| Image=Fennesz....</td>\n",
              "    </tr>\n",
              "    <tr>\n",
              "      <th>3</th>\n",
              "      <td>Musician 5 (The Door)</td>\n",
              "      <td>{{DISPLAYTITLE:Musician 5 &lt;small&gt;(The Door)&lt;/s...</td>\n",
              "    </tr>\n",
              "    <tr>\n",
              "      <th>4</th>\n",
              "      <td>Valryon</td>\n",
              "      <td>{{Animal\\n|Title = Valryon\\n|Season = [[Season...</td>\n",
              "    </tr>\n",
              "    <tr>\n",
              "      <th>5</th>\n",
              "      <td>Jaremy Mallister</td>\n",
              "      <td>{{Heraldry\\n|image = House-Mallister-Main-Shie...</td>\n",
              "    </tr>\n",
              "    <tr>\n",
              "      <th>...</th>\n",
              "      <td>...</td>\n",
              "      <td>...</td>\n",
              "    </tr>\n",
              "    <tr>\n",
              "      <th>2041</th>\n",
              "      <td>Mordane</td>\n",
              "      <td>{{Character\\n| Title=Mordane\\n| Image=MordaneC...</td>\n",
              "    </tr>\n",
              "    <tr>\n",
              "      <th>2042</th>\n",
              "      <td>Great Master 5</td>\n",
              "      <td>{{Heraldry\\n|image=SlaveMasters-Shield.PNG\\n|l...</td>\n",
              "    </tr>\n",
              "    <tr>\n",
              "      <th>2043</th>\n",
              "      <td>Red Priestess (High Sparrow)</td>\n",
              "      <td>{{DISPLAYTITLE:Red Priestess &lt;small&gt;(High Spar...</td>\n",
              "    </tr>\n",
              "    <tr>\n",
              "      <th>2044</th>\n",
              "      <td>Dareon</td>\n",
              "      <td>{{Heraldry\\n|image=Night's-Watch-Main-Shield.P...</td>\n",
              "    </tr>\n",
              "    <tr>\n",
              "      <th>2045</th>\n",
              "      <td>Ethelide Baratheon</td>\n",
              "      <td>{{Heraldry\\n|image = House-Baratheon-Main-Shie...</td>\n",
              "    </tr>\n",
              "  </tbody>\n",
              "</table>\n",
              "<p>1442 rows × 2 columns</p>\n",
              "</div>"
            ],
            "text/plain": [
              "                        wiki_title                                       wiki_content\n",
              "1                 Merchant captain  {{Character\\n| Title = Merchant captain\\n| Ima...\n",
              "2                          Fennesz  {{Character\\n| Title=Fennesz\\n| Image=Fennesz....\n",
              "3            Musician 5 (The Door)  {{DISPLAYTITLE:Musician 5 <small>(The Door)</s...\n",
              "4                          Valryon  {{Animal\\n|Title = Valryon\\n|Season = [[Season...\n",
              "5                 Jaremy Mallister  {{Heraldry\\n|image = House-Mallister-Main-Shie...\n",
              "...                            ...                                                ...\n",
              "2041                       Mordane  {{Character\\n| Title=Mordane\\n| Image=MordaneC...\n",
              "2042                Great Master 5  {{Heraldry\\n|image=SlaveMasters-Shield.PNG\\n|l...\n",
              "2043  Red Priestess (High Sparrow)  {{DISPLAYTITLE:Red Priestess <small>(High Spar...\n",
              "2044                        Dareon  {{Heraldry\\n|image=Night's-Watch-Main-Shield.P...\n",
              "2045            Ethelide Baratheon  {{Heraldry\\n|image = House-Baratheon-Main-Shie...\n",
              "\n",
              "[1442 rows x 2 columns]"
            ]
          },
          "metadata": {
            "tags": []
          },
          "execution_count": 61
        }
      ]
    },
    {
      "cell_type": "code",
      "metadata": {
        "id": "4oRnDVxydRLa",
        "colab_type": "code",
        "colab": {}
      },
      "source": [
        "not_redirected.to_csv('not_redirected_titles.csv')\n"
      ],
      "execution_count": 0,
      "outputs": []
    },
    {
      "cell_type": "code",
      "execution_count": 34,
      "metadata": {},
      "outputs": [],
      "source": [
        "not_redirected = pd.read_csv('not_redirected_titles.csv')"
      ]
    },
    {
      "cell_type": "markdown",
      "metadata": {},
      "source": [
        "## Filter pages without \"{{Character\" substring"
      ]
    },
    {
      "cell_type": "code",
      "metadata": {
        "id": "E0fX5_B-ex8n",
        "colab_type": "code",
        "colab": {}
      },
      "source": [
        "only_characters = not_redirected[not_redirected.wiki_content.str.contains('{{Character')]"
      ],
      "execution_count": 35,
      "outputs": []
    },
    {
      "cell_type": "code",
      "execution_count": 30,
      "metadata": {},
      "outputs": [],
      "source": [
        "only_characters.iloc[:, [0,1]].to_csv('clean_vertex.csv', header=False, index=False)\n"
      ]
    },
    {
      "cell_type": "code",
      "execution_count": 31,
      "metadata": {},
      "outputs": [],
      "source": [
        "edge = pd.read_csv('edge.csv')"
      ]
    },
    {
      "cell_type": "code",
      "execution_count": 32,
      "metadata": {},
      "outputs": [],
      "source": [
        "edge = edge[edge.Target.isin(only_characters.iloc[:, 0].values) & edge.Source.isin(only_characters.iloc[:, 0].values)]"
      ]
    },
    {
      "cell_type": "code",
      "execution_count": 33,
      "metadata": {},
      "outputs": [],
      "source": [
        "edge.to_csv('clean_edge.csv', index=False)"
      ]
    },
    {
      "cell_type": "code",
      "execution_count": null,
      "metadata": {},
      "outputs": [],
      "source": []
    }
  ],
  "metadata": {
    "colab": {
      "name": "Untitled",
      "provenance": [],
      "collapsed_sections": []
    },
    "kernelspec": {
      "name": "python3",
      "display_name": "Python 3"
    }
  },
  "nbformat": 4,
  "nbformat_minor": 0
}