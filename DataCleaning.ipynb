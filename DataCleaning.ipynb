{
  "nbformat": 4,
  "nbformat_minor": 0,
  "metadata": {
    "colab": {
      "name": "Untitled",
      "provenance": [],
      "collapsed_sections": []
    },
    "kernelspec": {
      "name": "python3",
      "display_name": "Python 3"
    }
  },
  "cells": [
    {
      "cell_type": "code",
      "metadata": {
        "id": "DaUoy4B2OY3r",
        "colab_type": "code",
        "outputId": "501a7f15-0515-419a-fff4-3d267b6e22a6",
        "colab": {
          "base_uri": "https://localhost:8080/",
          "height": 187
        }
      },
      "source": [
        "import pandas as pd\n",
        "import requests\n",
        "\n",
        "characters = pd.read_csv('vertex.csv')\n",
        "characters = list(characters['Label'])\n",
        "for character in characters[:10]:\n",
        "  print(character)"
      ],
      "execution_count": 15,
      "outputs": [
        {
          "output_type": "stream",
          "text": [
            "Cassana Estermont\n",
            "Merchant captain\n",
            "Fennesz\n",
            "Musician 5 (The Door)\n",
            "Valryon\n",
            "Jaremy Mallister\n",
            "Gold cloaks\n",
            "Sword fighting wight\n",
            "Unella\n",
            "Monica Velaryon\n"
          ],
          "name": "stdout"
        }
      ]
    },
    {
      "cell_type": "code",
      "metadata": {
        "id": "gQ0qB0sHO9fz",
        "colab_type": "code",
        "colab": {}
      },
      "source": [
        "S = requests.Session()\n",
        "\n",
        "def get_character_page(title):\n",
        "\n",
        "\n",
        "  URL = \"https://gameofthrones.fandom.com/api.php\"\n",
        "\n",
        "  PARAMS = {\n",
        "      \"action\": \"parse\",\n",
        "      \"format\": \"json\",\n",
        "      \"page\": title,\n",
        "      \"prop\": \"wikitext\",\n",
        "      \"formatversion\": \"2\"\n",
        "  }\n",
        "\n",
        "  R = S.get(url=URL, params=PARAMS)\n",
        "  DATA = R.json()\n",
        "\n",
        "  return DATA\n",
        "\n",
        "character_contents = {}\n",
        "for character in characters:\n",
        "  #print(character)\n",
        "  character_contents[character] = get_character_page(character)"
      ],
      "execution_count": 0,
      "outputs": []
    },
    {
      "cell_type": "code",
      "metadata": {
        "id": "zBclueNmaFS1",
        "colab_type": "code",
        "colab": {
          "base_uri": "https://localhost:8080/",
          "height": 54
        },
        "outputId": "a865c061-6a3e-49dc-fbed-a6e18489ea51"
      },
      "source": [
        "character_contents['Nymeria']['parse']['wikitext']['*']"
      ],
      "execution_count": 29,
      "outputs": [
        {
          "output_type": "execute_result",
          "data": {
            "text/plain": [
              "'::\\'\\'This is about the Rhoynar warrior-queen and ancestor of House Martell. You may be looking for [[Nymeria Sand]] of the [[Sand Snakes]], or [[Nymeria (direwolf)|Nymeria]] the [[direwolf]] bound to [[Arya Stark]].\\'\\'\\n\\n{{Heraldry\\n|leftimage =Nymeria-Shield.PNG\\n|rightimage= House-Dayne-New-Shield.png\\n|leftlink=Rhoynar\\n|rightlink = House Dayne\\n|image2 = House-Martell-Main-Shield.PNG|image2link = House Martell|image3 = |image3link = }}\\n{{Character\\n|Title = Nymeria\\n|Image =Nymeria warrior queen.png\\n|Season = [[Season 4|4]], [[Season 5|5]], [[Season 6|6]]\\n|Appearances =\\n|Titles=[[Prince of Dorne|Princess of Dorne]]\\n|Aka =\\n|Status= [[:Category:Deceased individuals|Deceased]]\\n|Place =[[Ny Sar]]\\n|Allegiance = [[House Martell]]<br>[[Rhoynar]]\\n|Spouse = {[[Mors Martell]]}<br>{[[Davos Dayne]]}\\n|Culture = [[Rhoynar]]\\n|Mentioned = \"[[House Martell (Histories & Lore)|House Martell]]\"<br>\"[[Dorne (Histories & Lore)|Dorne]]\"<br>\"[[The River Rhoyne]]\"<br>\"[[House Dayne (Histories & Lore)|House Dayne]]\"\\n|Predecessor = {[[Mors Martell]]}\\n|Successor = {[[Martell (daughter of Mors)|Daughter]]}\\n|Children = With Mors:<br>{[[Martell (daughter of Mors)|Daughter]]}<br>\\n----\\nWith Davos:<br>{[[Dayne (son of Davos)|Son]]}\\n}}\\n{{Quote|Thousands of years ago, the warrior queen Nymeria crossed into Dorne from Essos, fleeing the dragonlords of Valyria. After she landed, she burned her ships, all 10,000 of them, so no cowards could slink home. What a woman. Dornish in spirit before she ever was in flesh.|[[Oberyn Martell]]|House Martell (Histories & Lore)}}\\n\\'\\'\\'Nymeria\\'\\'\\' was the warrior-queen who led the [[Rhoynar]] refugees to [[Dorne]] a thousand years ago. She is an ancestor of [[House Martell]] and [[House Dayne]], and is seen as the founder of Dorne as a unified realm under Martell rule.\\n\\n==History==\\n===Background===\\n[[File:Nymeria Ten Thousand Ships.png|thumb|200px|left|Nymeria leading the Rhoynar refugee fleet in its migration to Westeros]]\\nThe Rhoynar once lived in city-states along the [[Rhoyne]] River. About a thousand years ago (perhaps 700 years before the [[War of Conquest|Targaryen Conquest]]), the Rhoynar were on the verge of being conquered by the expanding power of the [[Valyrian Freehold]] and its [[Dragons|dragons]]. Defeated at the end of the [[Rhoynish Wars]], Nymeria rallied the survivors and [[Rhoynar migration|fled]] [[Essos]] altogether, sailing in a refugee fleet said to include ten thousand ships. After much wandering she eventually led her people to [[Dorne]], at the southeastern tip of [[Westeros]]. After landing, Nymeria had all of the Rhoynar\\'s 10,000 ships burned, so that none would have second thoughts about staying.\\n[[File:Nymeria_and_Mors_Martell.png|thumb|Local lord [[Mors Martell]] united his forces with Nymeria and her Rhoynar, to conquer and unify Dorne for the first time.]]\\n[[File:Nymeria and her High Lords.png|thumb|Nymeria with her High Lords.]]\\nAt the time, Dorne was divided into many petty kingdoms and had never been unified. Impressed by Nymeria, local king Mors Martell married her and united her forces with his own. Together, they conquered and unified all of Dorne for the first time, reigning from the Martells\\' seat at [[Sunspear]].<ref name=\"Martell\">\"[[House Martell (Histories & Lore)|House Martell]]\"</ref><ref>\"[[Dorne (Histories & Lore)|Dorne]]\"</ref> At some point later, she would marry [[Davos Dayne]].<ref>\"[[House Dayne (Histories & Lore)|House Dayne]]\"</ref> Dorne was the last of the [[Seven Kingdoms]] to join the realm; however, it did not join through conquest, but rather through marriage two centuries later.<ref name=\"Martell\" />\\n\\nThe Dornish revere Nymeria as the founder of their realm, and her descendants in [[House Martell]] continued to rule Dorne through the present day. As a result, \"Nymeria\" actually became a common name in Dorne (comparable to how \"Brandon\" is a very common name in [[the North]], after their founder, [[Brandon Stark (the Builder)|Brandon the Builder]]). [[Oberyn Martell]] - himself a direct descendant of Nymeria, warrior-queen of the Rhoynar - named one of his own bastard daughters [[Nymeria Sand]]. Nymeria\\'s fame also spread across Westeros: even young [[Arya Stark]], fascinated with legends about past warrior-queens, chose to name her [[direwolf]] \"[[Nymeria (direwolf)|Nymeria]]\". Through the marriage of [[Myriah Martell]] to [[Daeron II Targaryen|King Daeron II]], Nymeria is also an ancestress of [[House Targaryen]].\\n\\n==In the books==\\nIn the \\'\\'[[A Song of Ice and Fire]]\\'\\' novels, Nymeria was the leader of the Rhoynar refugees and is seen as the founder of unified Dorne. Before the Valyrians defeated the coalition of Rhoynar city-states, Nymeria herself was the ruling Princess of [[Ny Sar]].\\n\\nAfter Nymeria died she was succeeded by her eldest child, her daughter with Mors Martell. Within her own lifetime she was able to enforce the gender-blind equal primogeniture laws of the Rhoynar in Dorne, even though she had a younger son by a different husband (after Mors died) who by the laws of the Andals would have inherited rule of Dorne after her.\\n\\nA minor detail in the books is that after Nymeria married Mors Martell, the formal name of their descendants\\' house actually became \"House Nymeros Martell\" (Nymeros meaning \"of Nymeria\"), combining their two names. The TV series has not mentioned this, though it is rarely mentioned in the books either.\\n\\n\"Nymeria\" became a popular name in Dorne in later generations. Even Arya Stark named her direwolf \"Nymeria\" after her. In the novels, her choice of name for her direwolf is specifically explained in the first novel: in contrast with her refined sister [[Sansa Stark]], who gave her direwolf the elegant name \"[[Lady]]\", the tomboyish Arya named her direwolf after a famous warrior-queen. The TV series didn\\'t do this in Season 1, though certainly because even Dorne itself had not yet been introduced and it would have taken a long time to explain.\\n\\nNymeria is remembered as a warrior-queen, though she actually was not a warrior herself, in the sense of carrying and wielding weapons. She was considered a warrior for being a cunning military strategist and commander of armies (comparable to how in his later years Tywin Lannister was considered a dangerous war-leader, without actually wielding his own sword anymore). That being said, many of the Rhoynar refugees in her army were female, because Rhoynar women were taught to fight alongside their men (and most of the men had died fighting the Valyrians).\\n\\nAs the founder of one of the Seven Kingdoms, Nymeria is revered in Dorne much as [[Brandon Stark (the Builder)|Brandon the Builder]] is revered in [[the North]], [[Lann]] the Clever in [[the Westerlands]], or [[Garth Greenhand]] in [[the Reach]]. A major difference however is that these figures all lived over six thousand years ago in the [[Age of Heroes]], before written accounts, and all of the tales about them are shrouded in legend - many maesters question if \"Bran the Builder\" or \"Lann the Clever\" ever truly existed at all, or are just folklore. In contrast, Nymeria unified Dorne only one thousand years ago, long after the times of mythical heroes had progressed into the era of written history, so Nymeria is fully understood to have been a real person.\\n\\n==See also==\\n* {{AWOIAF|Nymeria}}\\n\\n==References==\\n{{Reflist}}\\n{{Martell navbox}}\\n{{Dayne navbox}}\\n\\n[[de:Nymeria]]\\n[[es:Nymeria]]\\n[[pl:Królowa Nymeria]]\\n[[ru:Нимерия]]\\n[[zh:娜梅莉亚]]\\n[[ro:Nymeria]]\\n[[Category:Princesses]]\\n[[Category:Members of House Martell]]\\n[[Category:Deceased individuals]]\\n[[Category:Rhoynar]]\\n[[Category:Ruling ladies]]\\n[[Category:Princes of Dorne]]'"
            ]
          },
          "metadata": {
            "tags": []
          },
          "execution_count": 29
        }
      ]
    },
    {
      "cell_type": "code",
      "metadata": {
        "id": "V8vFXk1RQv6C",
        "colab_type": "code",
        "colab": {}
      },
      "source": [
        "contents = {}\n",
        "for title in character_contents:\n",
        "  contents[title] = character_contents[title]['parse']['wikitext']['*']"
      ],
      "execution_count": 0,
      "outputs": []
    },
    {
      "cell_type": "code",
      "metadata": {
        "id": "kDdVxDVTaUV7",
        "colab_type": "code",
        "colab": {}
      },
      "source": [
        "contents_df = pd.DataFrame(contents.items(), columns=['wiki_title', 'wiki_content'])"
      ],
      "execution_count": 0,
      "outputs": []
    },
    {
      "cell_type": "code",
      "metadata": {
        "id": "86kP3SJ7bXN9",
        "colab_type": "code",
        "colab": {
          "base_uri": "https://localhost:8080/",
          "height": 419
        },
        "outputId": "3b258b16-cade-471c-c283-016d6d81344b"
      },
      "source": [
        "contents_df"
      ],
      "execution_count": 44,
      "outputs": [
        {
          "output_type": "execute_result",
          "data": {
            "text/html": [
              "<div>\n",
              "<style scoped>\n",
              "    .dataframe tbody tr th:only-of-type {\n",
              "        vertical-align: middle;\n",
              "    }\n",
              "\n",
              "    .dataframe tbody tr th {\n",
              "        vertical-align: top;\n",
              "    }\n",
              "\n",
              "    .dataframe thead th {\n",
              "        text-align: right;\n",
              "    }\n",
              "</style>\n",
              "<table border=\"1\" class=\"dataframe\">\n",
              "  <thead>\n",
              "    <tr style=\"text-align: right;\">\n",
              "      <th></th>\n",
              "      <th>wiki_title</th>\n",
              "      <th>wiki_content</th>\n",
              "    </tr>\n",
              "  </thead>\n",
              "  <tbody>\n",
              "    <tr>\n",
              "      <th>0</th>\n",
              "      <td>Cassana Estermont</td>\n",
              "      <td>#REDIRECT[[Cassana Baratheon]]</td>\n",
              "    </tr>\n",
              "    <tr>\n",
              "      <th>1</th>\n",
              "      <td>Merchant captain</td>\n",
              "      <td>{{Character\\n| Title = Merchant captain\\n| Ima...</td>\n",
              "    </tr>\n",
              "    <tr>\n",
              "      <th>2</th>\n",
              "      <td>Fennesz</td>\n",
              "      <td>{{Character\\n| Title=Fennesz\\n| Image=Fennesz....</td>\n",
              "    </tr>\n",
              "    <tr>\n",
              "      <th>3</th>\n",
              "      <td>Musician 5 (The Door)</td>\n",
              "      <td>{{DISPLAYTITLE:Musician 5 &lt;small&gt;(The Door)&lt;/s...</td>\n",
              "    </tr>\n",
              "    <tr>\n",
              "      <th>4</th>\n",
              "      <td>Valryon</td>\n",
              "      <td>{{Animal\\n|Title = Valryon\\n|Season = [[Season...</td>\n",
              "    </tr>\n",
              "    <tr>\n",
              "      <th>...</th>\n",
              "      <td>...</td>\n",
              "      <td>...</td>\n",
              "    </tr>\n",
              "    <tr>\n",
              "      <th>2041</th>\n",
              "      <td>Mordane</td>\n",
              "      <td>{{Character\\n| Title=Mordane\\n| Image=MordaneC...</td>\n",
              "    </tr>\n",
              "    <tr>\n",
              "      <th>2042</th>\n",
              "      <td>Great Master 5</td>\n",
              "      <td>{{Heraldry\\n|image=SlaveMasters-Shield.PNG\\n|l...</td>\n",
              "    </tr>\n",
              "    <tr>\n",
              "      <th>2043</th>\n",
              "      <td>Red Priestess (High Sparrow)</td>\n",
              "      <td>{{DISPLAYTITLE:Red Priestess &lt;small&gt;(High Spar...</td>\n",
              "    </tr>\n",
              "    <tr>\n",
              "      <th>2044</th>\n",
              "      <td>Dareon</td>\n",
              "      <td>{{Heraldry\\n|image=Night's-Watch-Main-Shield.P...</td>\n",
              "    </tr>\n",
              "    <tr>\n",
              "      <th>2045</th>\n",
              "      <td>Ethelide Baratheon</td>\n",
              "      <td>{{Heraldry\\n|image = House-Baratheon-Main-Shie...</td>\n",
              "    </tr>\n",
              "  </tbody>\n",
              "</table>\n",
              "<p>2046 rows × 2 columns</p>\n",
              "</div>"
            ],
            "text/plain": [
              "                        wiki_title                                       wiki_content\n",
              "0                Cassana Estermont                     #REDIRECT[[Cassana Baratheon]]\n",
              "1                 Merchant captain  {{Character\\n| Title = Merchant captain\\n| Ima...\n",
              "2                          Fennesz  {{Character\\n| Title=Fennesz\\n| Image=Fennesz....\n",
              "3            Musician 5 (The Door)  {{DISPLAYTITLE:Musician 5 <small>(The Door)</s...\n",
              "4                          Valryon  {{Animal\\n|Title = Valryon\\n|Season = [[Season...\n",
              "...                            ...                                                ...\n",
              "2041                       Mordane  {{Character\\n| Title=Mordane\\n| Image=MordaneC...\n",
              "2042                Great Master 5  {{Heraldry\\n|image=SlaveMasters-Shield.PNG\\n|l...\n",
              "2043  Red Priestess (High Sparrow)  {{DISPLAYTITLE:Red Priestess <small>(High Spar...\n",
              "2044                        Dareon  {{Heraldry\\n|image=Night's-Watch-Main-Shield.P...\n",
              "2045            Ethelide Baratheon  {{Heraldry\\n|image = House-Baratheon-Main-Shie...\n",
              "\n",
              "[2046 rows x 2 columns]"
            ]
          },
          "metadata": {
            "tags": []
          },
          "execution_count": 44
        }
      ]
    },
    {
      "cell_type": "code",
      "metadata": {
        "id": "StWz6FsudMXh",
        "colab_type": "code",
        "colab": {
          "base_uri": "https://localhost:8080/",
          "height": 419
        },
        "outputId": "2b544b75-4409-4061-8a01-e3dbf760e493"
      },
      "source": [
        "not_redirected = contents_df[~contents_df.wiki_content.str.lower().str.contains('#redirect')]\n",
        "not_redirected"
      ],
      "execution_count": 61,
      "outputs": [
        {
          "output_type": "execute_result",
          "data": {
            "text/html": [
              "<div>\n",
              "<style scoped>\n",
              "    .dataframe tbody tr th:only-of-type {\n",
              "        vertical-align: middle;\n",
              "    }\n",
              "\n",
              "    .dataframe tbody tr th {\n",
              "        vertical-align: top;\n",
              "    }\n",
              "\n",
              "    .dataframe thead th {\n",
              "        text-align: right;\n",
              "    }\n",
              "</style>\n",
              "<table border=\"1\" class=\"dataframe\">\n",
              "  <thead>\n",
              "    <tr style=\"text-align: right;\">\n",
              "      <th></th>\n",
              "      <th>wiki_title</th>\n",
              "      <th>wiki_content</th>\n",
              "    </tr>\n",
              "  </thead>\n",
              "  <tbody>\n",
              "    <tr>\n",
              "      <th>1</th>\n",
              "      <td>Merchant captain</td>\n",
              "      <td>{{Character\\n| Title = Merchant captain\\n| Ima...</td>\n",
              "    </tr>\n",
              "    <tr>\n",
              "      <th>2</th>\n",
              "      <td>Fennesz</td>\n",
              "      <td>{{Character\\n| Title=Fennesz\\n| Image=Fennesz....</td>\n",
              "    </tr>\n",
              "    <tr>\n",
              "      <th>3</th>\n",
              "      <td>Musician 5 (The Door)</td>\n",
              "      <td>{{DISPLAYTITLE:Musician 5 &lt;small&gt;(The Door)&lt;/s...</td>\n",
              "    </tr>\n",
              "    <tr>\n",
              "      <th>4</th>\n",
              "      <td>Valryon</td>\n",
              "      <td>{{Animal\\n|Title = Valryon\\n|Season = [[Season...</td>\n",
              "    </tr>\n",
              "    <tr>\n",
              "      <th>5</th>\n",
              "      <td>Jaremy Mallister</td>\n",
              "      <td>{{Heraldry\\n|image = House-Mallister-Main-Shie...</td>\n",
              "    </tr>\n",
              "    <tr>\n",
              "      <th>...</th>\n",
              "      <td>...</td>\n",
              "      <td>...</td>\n",
              "    </tr>\n",
              "    <tr>\n",
              "      <th>2041</th>\n",
              "      <td>Mordane</td>\n",
              "      <td>{{Character\\n| Title=Mordane\\n| Image=MordaneC...</td>\n",
              "    </tr>\n",
              "    <tr>\n",
              "      <th>2042</th>\n",
              "      <td>Great Master 5</td>\n",
              "      <td>{{Heraldry\\n|image=SlaveMasters-Shield.PNG\\n|l...</td>\n",
              "    </tr>\n",
              "    <tr>\n",
              "      <th>2043</th>\n",
              "      <td>Red Priestess (High Sparrow)</td>\n",
              "      <td>{{DISPLAYTITLE:Red Priestess &lt;small&gt;(High Spar...</td>\n",
              "    </tr>\n",
              "    <tr>\n",
              "      <th>2044</th>\n",
              "      <td>Dareon</td>\n",
              "      <td>{{Heraldry\\n|image=Night's-Watch-Main-Shield.P...</td>\n",
              "    </tr>\n",
              "    <tr>\n",
              "      <th>2045</th>\n",
              "      <td>Ethelide Baratheon</td>\n",
              "      <td>{{Heraldry\\n|image = House-Baratheon-Main-Shie...</td>\n",
              "    </tr>\n",
              "  </tbody>\n",
              "</table>\n",
              "<p>1442 rows × 2 columns</p>\n",
              "</div>"
            ],
            "text/plain": [
              "                        wiki_title                                       wiki_content\n",
              "1                 Merchant captain  {{Character\\n| Title = Merchant captain\\n| Ima...\n",
              "2                          Fennesz  {{Character\\n| Title=Fennesz\\n| Image=Fennesz....\n",
              "3            Musician 5 (The Door)  {{DISPLAYTITLE:Musician 5 <small>(The Door)</s...\n",
              "4                          Valryon  {{Animal\\n|Title = Valryon\\n|Season = [[Season...\n",
              "5                 Jaremy Mallister  {{Heraldry\\n|image = House-Mallister-Main-Shie...\n",
              "...                            ...                                                ...\n",
              "2041                       Mordane  {{Character\\n| Title=Mordane\\n| Image=MordaneC...\n",
              "2042                Great Master 5  {{Heraldry\\n|image=SlaveMasters-Shield.PNG\\n|l...\n",
              "2043  Red Priestess (High Sparrow)  {{DISPLAYTITLE:Red Priestess <small>(High Spar...\n",
              "2044                        Dareon  {{Heraldry\\n|image=Night's-Watch-Main-Shield.P...\n",
              "2045            Ethelide Baratheon  {{Heraldry\\n|image = House-Baratheon-Main-Shie...\n",
              "\n",
              "[1442 rows x 2 columns]"
            ]
          },
          "metadata": {
            "tags": []
          },
          "execution_count": 61
        }
      ]
    },
    {
      "cell_type": "code",
      "metadata": {
        "id": "4oRnDVxydRLa",
        "colab_type": "code",
        "colab": {}
      },
      "source": [
        "not_redirected.to_csv('not_redirected_titles.csv')\n"
      ],
      "execution_count": 0,
      "outputs": []
    },
    {
      "cell_type": "code",
      "metadata": {
        "id": "E0fX5_B-ex8n",
        "colab_type": "code",
        "colab": {}
      },
      "source": [
        ""
      ],
      "execution_count": 0,
      "outputs": []
    }
  ]
}